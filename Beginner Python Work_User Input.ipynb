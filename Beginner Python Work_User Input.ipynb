{
 "cells": [
  {
   "cell_type": "code",
   "execution_count": 2,
   "metadata": {},
   "outputs": [
    {
     "name": "stdout",
     "output_type": "stream",
     "text": [
      "Here is an animal, a vegetable, and a mineral\n",
      "cat\n",
      "broccoli\n",
      "gold\n"
     ]
    }
   ],
   "source": [
    "#Excercise 1 - Animal, Veggie, Mineral\n",
    "\n",
    "animal = 'cat'\n",
    "veggie = 'broccoli'\n",
    "mineral = 'gold'\n",
    "\n",
    "print('Here is an animal, a vegetable, and a mineral')\n",
    "\n",
    "print(animal)\n",
    "print(veggie)\n",
    "print(mineral)"
   ]
  },
  {
   "cell_type": "code",
   "execution_count": 7,
   "metadata": {},
   "outputs": [
    {
     "name": "stdout",
     "output_type": "stream",
     "text": [
      "Please type something and press enter: Check it!\n",
      "You entered:Check it!\n",
      "Check it!\n"
     ]
    }
   ],
   "source": [
    "#Excercise 2 - Copy Cat (user prompted input)\n",
    "\n",
    "user_input = input('Please type something and press enter: ')\n",
    "\n",
    "print('You entered:{}'.format(user_input))\n",
    "\n",
    "#or \n",
    "\n",
    "print(user_input)"
   ]
  },
  {
   "cell_type": "code",
   "execution_count": 1,
   "metadata": {},
   "outputs": [
    {
     "name": "stdout",
     "output_type": "stream",
     "text": [
      "What would you like to have this cat say? How about some lasagna?\n",
      "       _______________________\n",
      "      \"How about some lasagna?\"\n",
      "       -----------------------\n",
      "      |\n",
      "/\\_/\\ /\n",
      "|0.0|  \n",
      "|>  )>  \n",
      " b   b \n"
     ]
    }
   ],
   "source": [
    "user_input = input('What would you like to have this cat say? ')\n",
    "\n",
    "text_length = len(user_input)\n",
    "\n",
    "print('       {}'.format('_'*text_length))\n",
    "print('      \"{}\"'.format(user_input))\n",
    "print('       {}'.format('-'*text_length))\n",
    "print('      |')\n",
    "print('/\\_/\\ /')\n",
    "print('|0.0|  ')\n",
    "print('|>  )>  ')\n",
    "print(' b   b ')"
   ]
  }
 ],
 "metadata": {
  "kernelspec": {
   "display_name": "Python 3",
   "language": "python",
   "name": "python3"
  },
  "language_info": {
   "codemirror_mode": {
    "name": "ipython",
    "version": 3
   },
   "file_extension": ".py",
   "mimetype": "text/x-python",
   "name": "python",
   "nbconvert_exporter": "python",
   "pygments_lexer": "ipython3",
   "version": "3.7.1"
  }
 },
 "nbformat": 4,
 "nbformat_minor": 2
}
