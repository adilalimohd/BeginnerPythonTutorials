{
 "cells": [
  {
   "cell_type": "code",
   "execution_count": 16,
   "metadata": {},
   "outputs": [
    {
     "name": "stdout",
     "output_type": "stream",
     "text": [
      "Cost per day: $12.24\n",
      "Cost per month: $8935.20\n",
      "Cost of 20 servers per day: $244.80\n",
      "Cost of 20 servers per month: $7446.00\n",
      "75 days with $918\n"
     ]
    }
   ],
   "source": [
    "#Hosting provider: $0.51 per hour. Will launch with one server\n",
    "\n",
    "#Cost of one server per hour\n",
    "cost_per_day = .51 * 24 \n",
    "print ('Cost per day: ${:.2f}'.format(cost_per_day))\n",
    "\n",
    "#the \":\" gives Python an attribute. Helps point it to what it needs to pull in\n",
    "\n",
    "#Cost per month\n",
    "cost_per_month = (cost_per_day *24 * 365)/12\n",
    "print ('Cost per month: ${:.2f}'.format(cost_per_month))\n",
    "\n",
    "#Cost of 20 servers per day\n",
    "twenty_servers_per_day = (cost_per_day * 20)\n",
    "print ('Cost of 20 servers per day: ${:.2f}'.format(twenty_servers_per_day))\n",
    "\n",
    "#Cost of 20 servers per month\n",
    "twenty_servers_per_month = ((twenty_servers_per_day * 365)/12)\n",
    "print( 'Cost of 20 servers per month: ${:.2f}'.format(twenty_servers_per_month))\n",
    "\n",
    "#Days to operate one server with $918\n",
    "budget = 918\n",
    "days = budget/cost_per_day\n",
    "print('{:.0f} days with $918'.format(days))"
   ]
  }
 ],
 "metadata": {
  "kernelspec": {
   "display_name": "Python 3",
   "language": "python",
   "name": "python3"
  },
  "language_info": {
   "codemirror_mode": {
    "name": "ipython",
    "version": 3
   },
   "file_extension": ".py",
   "mimetype": "text/x-python",
   "name": "python",
   "nbconvert_exporter": "python",
   "pygments_lexer": "ipython3",
   "version": "3.7.1"
  }
 },
 "nbformat": 4,
 "nbformat_minor": 2
}
