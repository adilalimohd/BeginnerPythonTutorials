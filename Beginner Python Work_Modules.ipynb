{
 "cells": [
  {
   "cell_type": "code",
   "execution_count": 2,
   "metadata": {},
   "outputs": [
    {
     "name": "stdout",
     "output_type": "stream",
     "text": [
      "Sat Mar  9 12:53:36 2019\n",
      "21600\n"
     ]
    }
   ],
   "source": [
    "#Import time\n",
    "\n",
    "import time\n",
    "\n",
    "print(time.asctime()) #local time\n",
    "\n",
    "print(time.timezone)  #timezone contains number of second between UTC (coordinate universal time) and local time"
   ]
  },
  {
   "cell_type": "code",
   "execution_count": 3,
   "metadata": {},
   "outputs": [
    {
     "name": "stdout",
     "output_type": "stream",
     "text": [
      "Sat Mar  9 12:57:08 2019\n"
     ]
    }
   ],
   "source": [
    "#You can also import only certain methods of a module\n",
    "\n",
    "from time import asctime\n",
    "print(asctime())"
   ]
  },
  {
   "cell_type": "code",
   "execution_count": 4,
   "metadata": {},
   "outputs": [
    {
     "name": "stdout",
     "output_type": "stream",
     "text": [
      "Sat Mar  9 12:58:14 2019\n",
      "Sat Mar  9 12:58:17 2019\n"
     ]
    }
   ],
   "source": [
    "#Importing multiple methods from a module\n",
    "\n",
    "from time import asctime, sleep\n",
    "\n",
    "print(asctime())\n",
    "sleep(3)  #snoozes the code for certain time in seconds\n",
    "print(asctime())"
   ]
  },
  {
   "cell_type": "code",
   "execution_count": 5,
   "metadata": {},
   "outputs": [],
   "source": [
    "#Benefit of importing method rather than whole module is you don't have to reference module in name. \n",
    "#EI sleep(3) versus time.sleep(3)"
   ]
  },
  {
   "cell_type": "code",
   "execution_count": 6,
   "metadata": {},
   "outputs": [
    {
     "data": {
      "text/plain": [
       "['_STRUCT_TM_ITEMS',\n",
       " '__doc__',\n",
       " '__loader__',\n",
       " '__name__',\n",
       " '__package__',\n",
       " '__spec__',\n",
       " 'altzone',\n",
       " 'asctime',\n",
       " 'clock',\n",
       " 'ctime',\n",
       " 'daylight',\n",
       " 'get_clock_info',\n",
       " 'gmtime',\n",
       " 'localtime',\n",
       " 'mktime',\n",
       " 'monotonic',\n",
       " 'monotonic_ns',\n",
       " 'perf_counter',\n",
       " 'perf_counter_ns',\n",
       " 'process_time',\n",
       " 'process_time_ns',\n",
       " 'sleep',\n",
       " 'strftime',\n",
       " 'strptime',\n",
       " 'struct_time',\n",
       " 'thread_time',\n",
       " 'thread_time_ns',\n",
       " 'time',\n",
       " 'time_ns',\n",
       " 'timezone',\n",
       " 'tzname']"
      ]
     },
     "execution_count": 6,
     "metadata": {},
     "output_type": "execute_result"
    }
   ],
   "source": [
    "#Use dir() to find out what attributes, methods, and classes exist in a module\n",
    "\n",
    "import time\n",
    "dir(time)"
   ]
  },
  {
   "cell_type": "code",
   "execution_count": 7,
   "metadata": {},
   "outputs": [
    {
     "name": "stdout",
     "output_type": "stream",
     "text": [
      "C:\\Users\\U385722\\Projects\\Basics\n",
      "C:\\Users\\U385722\\AppData\\Local\\Continuum\\anaconda3\\python37.zip\n",
      "C:\\Users\\U385722\\AppData\\Local\\Continuum\\anaconda3\\DLLs\n",
      "C:\\Users\\U385722\\AppData\\Local\\Continuum\\anaconda3\\lib\n",
      "C:\\Users\\U385722\\AppData\\Local\\Continuum\\anaconda3\n",
      "\n",
      "C:\\Users\\U385722\\AppData\\Local\\Continuum\\anaconda3\\lib\\site-packages\n",
      "C:\\Users\\U385722\\AppData\\Local\\Continuum\\anaconda3\\lib\\site-packages\\win32\n",
      "C:\\Users\\U385722\\AppData\\Local\\Continuum\\anaconda3\\lib\\site-packages\\win32\\lib\n",
      "C:\\Users\\U385722\\AppData\\Local\\Continuum\\anaconda3\\lib\\site-packages\\Pythonwin\n",
      "C:\\Users\\U385722\\AppData\\Local\\Continuum\\anaconda3\\lib\\site-packages\\IPython\\extensions\n",
      "C:\\Users\\U385722\\.ipython\n"
     ]
    }
   ],
   "source": [
    "#show module path\n",
    "\n",
    "import sys\n",
    "for path in sys.path:\n",
    "    print(path)"
   ]
  },
  {
   "cell_type": "code",
   "execution_count": 8,
   "metadata": {},
   "outputs": [
    {
     "name": "stdout",
     "output_type": "stream",
     "text": [
      "The Zen of Python, by Tim Peters\n",
      "\n",
      "Beautiful is better than ugly.\n",
      "Explicit is better than implicit.\n",
      "Simple is better than complex.\n",
      "Complex is better than complicated.\n",
      "Flat is better than nested.\n",
      "Sparse is better than dense.\n",
      "Readability counts.\n",
      "Special cases aren't special enough to break the rules.\n",
      "Although practicality beats purity.\n",
      "Errors should never pass silently.\n",
      "Unless explicitly silenced.\n",
      "In the face of ambiguity, refuse the temptation to guess.\n",
      "There should be one-- and preferably only one --obvious way to do it.\n",
      "Although that way may not be obvious at first unless you're Dutch.\n",
      "Now is better than never.\n",
      "Although never is often better than *right* now.\n",
      "If the implementation is hard to explain, it's a bad idea.\n",
      "If the implementation is easy to explain, it may be a good idea.\n",
      "Namespaces are one honking great idea -- let's do more of those!\n"
     ]
    }
   ],
   "source": [
    "import this"
   ]
  }
 ],
 "metadata": {
  "kernelspec": {
   "display_name": "Python 3",
   "language": "python",
   "name": "python3"
  },
  "language_info": {
   "codemirror_mode": {
    "name": "ipython",
    "version": 3
   },
   "file_extension": ".py",
   "mimetype": "text/x-python",
   "name": "python",
   "nbconvert_exporter": "python",
   "pygments_lexer": "ipython3",
   "version": "3.7.1"
  }
 },
 "nbformat": 4,
 "nbformat_minor": 2
}
