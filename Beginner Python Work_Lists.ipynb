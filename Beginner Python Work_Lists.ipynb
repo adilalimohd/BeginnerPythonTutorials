{
 "cells": [
  {
   "cell_type": "code",
   "execution_count": 4,
   "metadata": {},
   "outputs": [
    {
     "name": "stdout",
     "output_type": "stream",
     "text": [
      "['man', 'bear', 'pig']\n",
      "man\n",
      "bear\n",
      "pig\n"
     ]
    }
   ],
   "source": [
    "animals = ['man','bear','pig']\n",
    "print(animals)\n",
    "print(animals[0])\n",
    "print(animals[1])\n",
    "print(animals[2])"
   ]
  },
  {
   "cell_type": "code",
   "execution_count": 5,
   "metadata": {},
   "outputs": [
    {
     "name": "stdout",
     "output_type": "stream",
     "text": [
      "man\n",
      "cat\n"
     ]
    }
   ],
   "source": [
    "#setting values by indexing\n",
    "print(animals[0])\n",
    "animals[0] = 'cat'\n",
    "print(animals[0])"
   ]
  },
  {
   "cell_type": "code",
   "execution_count": 6,
   "metadata": {},
   "outputs": [
    {
     "name": "stdout",
     "output_type": "stream",
     "text": [
      "cow\n"
     ]
    }
   ],
   "source": [
    "#Adding to the list by appending\n",
    "animals.append('cow')\n",
    "print(animals[-1])"
   ]
  },
  {
   "cell_type": "code",
   "execution_count": 9,
   "metadata": {},
   "outputs": [
    {
     "name": "stdout",
     "output_type": "stream",
     "text": [
      "['cat', 'bear', 'pig', 'cow', 'horse', 'duck']\n"
     ]
    }
   ],
   "source": [
    "#Adding multiple items at the end of a list\n",
    "more_animals = ['horse','duck']\n",
    "animals.extend(more_animals)\n",
    "print(animals)"
   ]
  },
  {
   "cell_type": "code",
   "execution_count": 10,
   "metadata": {},
   "outputs": [
    {
     "name": "stdout",
     "output_type": "stream",
     "text": [
      "['Chicken', 'cat', 'bear', 'pig', 'cow', 'horse', 'duck']\n"
     ]
    }
   ],
   "source": [
    "#Adding single items within the list\n",
    "animals.insert(0,'Chicken')\n",
    "print(animals)"
   ]
  },
  {
   "cell_type": "code",
   "execution_count": 12,
   "metadata": {},
   "outputs": [
    {
     "name": "stdout",
     "output_type": "stream",
     "text": [
      "['cat', 'bear', 'pig']\n"
     ]
    }
   ],
   "source": [
    "#slicing to access different parts of the list. \n",
    "some_animals = animals[1:4] #range includes first index but stop right before second index (does not include second index)\n",
    "print(some_animals)"
   ]
  },
  {
   "cell_type": "code",
   "execution_count": 14,
   "metadata": {},
   "outputs": [
    {
     "name": "stdout",
     "output_type": "stream",
     "text": [
      "rse\n"
     ]
    }
   ],
   "source": [
    "#Slicing within strings\n",
    "part_of_horse = 'horse'[2:5]\n",
    "print(part_of_horse)"
   ]
  },
  {
   "cell_type": "code",
   "execution_count": 15,
   "metadata": {},
   "outputs": [
    {
     "name": "stdout",
     "output_type": "stream",
     "text": [
      "No cats found in list\n"
     ]
    }
   ],
   "source": [
    "#Exceptions using code block Try/Except\n",
    "\n",
    "animals = ['man','bear','pig']\n",
    "try:\n",
    "    cat_index =animals.index('cat')  #finding the index for \"cat\" which will utlimately lead to an error\n",
    "except:\n",
    "    cat_index = 'No cats found in list'\n",
    "    \n",
    "print(cat_index)\n"
   ]
  },
  {
   "cell_type": "code",
   "execution_count": 24,
   "metadata": {},
   "outputs": [
    {
     "name": "stdout",
     "output_type": "stream",
     "text": [
      "MAN\n",
      "DOG\n",
      "PIG\n",
      "\n",
      "man\n",
      "bear\n",
      "pig\n",
      "cow\n",
      "dog\n",
      "horse\n"
     ]
    }
   ],
   "source": [
    "#Looping\n",
    "\n",
    "#Example 1\n",
    "\n",
    "animals = ['man', 'dog', 'pig']\n",
    "for animal in animals:\n",
    "    print(animal.upper())\n",
    "    \n",
    "#Example 2\n",
    "print() #space\n",
    "animals = ['man','bear','pig','cow','dog','horse']\n",
    "index = 0\n",
    "\n",
    "while index < len(animals):\n",
    "    print(animals[index])\n",
    "    index += 1 "
   ]
  },
  {
   "cell_type": "code",
   "execution_count": 31,
   "metadata": {},
   "outputs": [
    {
     "name": "stdout",
     "output_type": "stream",
     "text": [
      "0\n",
      "1\n",
      "2\n",
      "\n",
      "1\n",
      "2\n",
      "\n",
      "1\n",
      "3\n",
      "5\n",
      "7\n",
      "9\n"
     ]
    }
   ],
   "source": [
    "#ranges\n",
    "for number in range(3):\n",
    "    print(number)\n",
    "    \n",
    "#specifying start & stop\n",
    "\n",
    "print()\n",
    "for number in range(1,3):\n",
    "    print(number)\n",
    "    \n",
    "#step parameter (third variable in range)\n",
    "print()\n",
    "for number in range(1,11,2):\n",
    "    print(number)"
   ]
  },
  {
   "cell_type": "code",
   "execution_count": 2,
   "metadata": {},
   "outputs": [
    {
     "name": "stdout",
     "output_type": "stream",
     "text": [
      "Enter a task for your to-do list. Press <enter> when done: Chores\n",
      "Task added.\n",
      "Enter a task for your to-do list. Press <enter> when done: Opt Appt\n",
      "Task added.\n",
      "Enter a task for your to-do list. Press <enter> when done: Music\n",
      "Task added.\n",
      "Enter a task for your to-do list. Press <enter> when done: \n",
      "\n",
      "Your To-Do List:\n",
      "________________\n",
      "\n",
      "Chores\n",
      "Opt Appt\n",
      "Music\n"
     ]
    }
   ],
   "source": [
    "#Excercise\n",
    "#To - Do List\n",
    "\n",
    "#Create blank to-do list\n",
    "task_list = []\n",
    "\n",
    "#assign a finished variable for later logic\n",
    "finished = False\n",
    "\n",
    "#meat of the code\n",
    "while not finished:\n",
    "    task = input('Enter a task for your to-do list. Press <enter> when done: ')\n",
    "    if len(task) == 0:\n",
    "        finished = True\n",
    "    else:\n",
    "        task_list.append(task)\n",
    "        print('Task added.')\n",
    "\n",
    "#display to-do list\n",
    "print()\n",
    "to_do = 'Your To-Do List:'\n",
    "print(to_do)\n",
    "print('_'*len(to_do))\n",
    "print()\n",
    "for task in task_list:\n",
    "    print(task)\n",
    "    "
   ]
  },
  {
   "cell_type": "code",
   "execution_count": null,
   "metadata": {},
   "outputs": [],
   "source": []
  }
 ],
 "metadata": {
  "kernelspec": {
   "display_name": "Python 3",
   "language": "python",
   "name": "python3"
  },
  "language_info": {
   "codemirror_mode": {
    "name": "ipython",
    "version": 3
   },
   "file_extension": ".py",
   "mimetype": "text/x-python",
   "name": "python",
   "nbconvert_exporter": "python",
   "pygments_lexer": "ipython3",
   "version": "3.7.1"
  }
 },
 "nbformat": 4,
 "nbformat_minor": 2
}
