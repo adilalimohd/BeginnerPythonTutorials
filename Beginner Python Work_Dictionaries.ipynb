{
 "cells": [
  {
   "cell_type": "code",
   "execution_count": 2,
   "metadata": {},
   "outputs": [
    {
     "name": "stdout",
     "output_type": "stream",
     "text": [
      "Dial 555-5555 to call Jason\n"
     ]
    }
   ],
   "source": [
    "#Dictionaries holds key-value pairs. These key value pairs are called items. Also known as associate arrays/hashes/hash tables\n",
    "\n",
    "contacts = {'Jason': '555-5555', 'Carl':'222-2222'}\n",
    "jason_phone = contacts['Jason']\n",
    "carl_phone = contacts['Carl']\n",
    "\n",
    "print('Dial {} to call Jason'.format(jason_phone))"
   ]
  },
  {
   "cell_type": "code",
   "execution_count": 4,
   "metadata": {},
   "outputs": [
    {
     "name": "stdout",
     "output_type": "stream",
     "text": [
      "{'Jason': '555-5555', 'Carl': '222-2222', 'Tony': '123-4567'}\n"
     ]
    }
   ],
   "source": [
    "#Adding to dictionary\n",
    "\n",
    "contacts['Tony'] = '123-4567'\n",
    "print(contacts)"
   ]
  },
  {
   "cell_type": "code",
   "execution_count": 5,
   "metadata": {},
   "outputs": [
    {
     "name": "stdout",
     "output_type": "stream",
     "text": [
      "{'Carl': '222-2222', 'Tony': '123-4567'}\n"
     ]
    }
   ],
   "source": [
    "#Removing from dictionary\n",
    "\n",
    "del contacts['Jason']\n",
    "print(contacts)"
   ]
  },
  {
   "cell_type": "code",
   "execution_count": 12,
   "metadata": {},
   "outputs": [
    {
     "name": "stdout",
     "output_type": "stream",
     "text": [
      "Phone: 555-5555\n",
      "Phone: 666-6666\n"
     ]
    }
   ],
   "source": [
    "#Looping in dictionaries\n",
    "\n",
    "contacts = {\n",
    "    'Jason': ['555-5555', '666-6666'],\n",
    "    'Tony':'123-4567'\n",
    "}\n",
    "\n",
    "for number in contacts['Jason']:      #using \"number\" is just random variable. You could use George if you wanted to\n",
    "    print('Phone: {}'.format(number))\n",
    "    "
   ]
  },
  {
   "cell_type": "code",
   "execution_count": 14,
   "metadata": {},
   "outputs": [
    {
     "name": "stdout",
     "output_type": "stream",
     "text": [
      "Jason's phone number is \n",
      "333-3333\n"
     ]
    }
   ],
   "source": [
    "#Finding a key within a dictionary - boolean style using syntax \"key()\"\n",
    "\n",
    "contacts = {'Jason':['333-3333','111-1111'],\n",
    "            'Jeffery':'444-4444'}\n",
    "\n",
    "if 'Jason' in contacts.keys():\n",
    "    print(\"Jason's phone number is \")\n",
    "    print(contacts['Jason'][0])\n",
    "    \n",
    "if 'Tony' in contacts.keys():\n",
    "    print(\"Tony's phone number is \")\n",
    "    print(contacts['Tony'][0])   #This evaluates to false and therefore Tony's doesn't show in the results"
   ]
  },
  {
   "cell_type": "code",
   "execution_count": 1,
   "metadata": {},
   "outputs": [
    {
     "name": "stdout",
     "output_type": "stream",
     "text": [
      "The number for Jason is 444-4444\n",
      "The number for Tony is 123-4567\n"
     ]
    }
   ],
   "source": [
    "#Looping through Dictionaries\n",
    "\n",
    "contacts = {'Jason':'444-4444',\n",
    "           'Tony': '123-4567'}\n",
    "\n",
    "for contact in contacts:      #Typically pronoun is used after the for based on dictionary name e.i. contact to contacts\n",
    "    print('The number for {0} is {1}'.format(contact,contacts[contact]))\n",
    "    "
   ]
  },
  {
   "cell_type": "code",
   "execution_count": 3,
   "metadata": {},
   "outputs": [
    {
     "name": "stdout",
     "output_type": "stream",
     "text": [
      "The number for Jason is 232-2323\n",
      "The number for Mike is 123-3456\n"
     ]
    }
   ],
   "source": [
    "#Using two variables to define a \"for loop\"\n",
    "\n",
    "contacts = {'Jason':'232-2323', 'Mike': '123-3456'}\n",
    "\n",
    "for person, phone_number in contacts.items():\n",
    "    print('The number for {0} is {1}'.format(person,phone_number))"
   ]
  },
  {
   "cell_type": "code",
   "execution_count": 7,
   "metadata": {},
   "outputs": [
    {
     "name": "stdout",
     "output_type": "stream",
     "text": [
      "Jason's contact information:\n",
      "Email: jason@example.com\n",
      "Phone: 123-4567\n",
      "\n",
      "Carl's contact information:\n",
      "Email: Carl@example.com\n",
      "Phone: 456-1231\n",
      "\n"
     ]
    }
   ],
   "source": [
    "#Nesting dictionaries\n",
    "\n",
    "contacts = {'Jason':{'phone':'123-4567', 'email': 'jason@example.com'},\n",
    "           'Carl':{'phone':'456-1231','email':'Carl@example.com'}\n",
    "           }\n",
    "\n",
    "for contact in contacts:\n",
    "    print(\"{}'s contact information:\".format(contact))\n",
    "    print('Email: {}'.format(contacts[contact]['email']))\n",
    "    print('Phone: {}'.format(contacts[contact]['phone']))\n",
    "    print()\n",
    "    "
   ]
  },
  {
   "cell_type": "code",
   "execution_count": 21,
   "metadata": {},
   "outputs": [
    {
     "name": "stdout",
     "output_type": "stream",
     "text": [
      "Jack hates excercising\n",
      "Bryn loves eating baracudda\n",
      "Alice once ate two whole pizzas\n",
      "\n",
      "Jack loves cardio\n",
      "Bryn loves eating baracudda\n",
      "Alice once ate two whole pizzas\n",
      "Joyce ate Jack's leftovers\n",
      "\n",
      "Jack loves cardio\n",
      "Bryn loves eating baracudda\n",
      "Alice once ate two whole pizzas\n",
      "Joyce ate Jack's leftovers\n"
     ]
    }
   ],
   "source": [
    "#Excercise: Interesting Facts\n",
    "\n",
    "interesting_facts = {'Jack': 'hates excercising', \n",
    "                     'Bryn': 'loves eating baracudda',\n",
    "                     'Alice': 'once ate two whole pizzas'\n",
    "                    }\n",
    "\n",
    "def display_facts(interesting_facts):\n",
    "    \"\"\"Displays facts\"\"\"\n",
    "    for person, fact in interesting_facts.items():  #REMEMBER TO USE ITEMS() when greater than one variable\n",
    "        print('{0} {1}'.format(person,fact))\n",
    "\n",
    "display_facts(interesting_facts)\n",
    "\n",
    "interesting_facts['Jack'] = 'loves cardio'\n",
    "interesting_facts['Joyce'] = \"ate Jack's leftovers\"\n",
    "\n",
    "print()\n",
    "display_facts(interesting_facts)\n",
    "\n",
    "print()\n",
    "display_facts(interesting_facts)"
   ]
  }
 ],
 "metadata": {
  "kernelspec": {
   "display_name": "Python 3",
   "language": "python",
   "name": "python3"
  },
  "language_info": {
   "codemirror_mode": {
    "name": "ipython",
    "version": 3
   },
   "file_extension": ".py",
   "mimetype": "text/x-python",
   "name": "python",
   "nbconvert_exporter": "python",
   "pygments_lexer": "ipython3",
   "version": "3.7.1"
  }
 },
 "nbformat": 4,
 "nbformat_minor": 2
}
