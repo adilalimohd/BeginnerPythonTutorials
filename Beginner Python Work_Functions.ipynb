{
 "cells": [
  {
   "cell_type": "code",
   "execution_count": 9,
   "metadata": {},
   "outputs": [
    {
     "name": "stdout",
     "output_type": "stream",
     "text": [
      "Hey there Adil Alimohd!\n",
      "Hey there Adil Alimohd!\n"
     ]
    }
   ],
   "source": [
    "def say_hi(first,last):\n",
    "    print('Hey there {} {}!'.format(first, last))\n",
    "\n",
    "say_hi('Adil','Alimohd')\n",
    "\n",
    "#or\n",
    "\n",
    "def say_hi(first,last):\n",
    "    print('Hey there {} {}!'.format(first, last))\n",
    "\n",
    "say_hi(first='Adil', last='Alimohd')"
   ]
  },
  {
   "cell_type": "code",
   "execution_count": 10,
   "metadata": {},
   "outputs": [
    {
     "name": "stdout",
     "output_type": "stream",
     "text": [
      "Help on function say_hi in module __main__:\n",
      "\n",
      "say_hi(first, last='Doe')\n",
      "    This function says hello\n",
      "\n"
     ]
    }
   ],
   "source": [
    "#built in help function for \"why does this function exist?\"\n",
    "\n",
    "def say_hi(first, last='Doe'): #creating value for second variable allow it to be defaulted to this if no value is passed later\n",
    "    \"\"\"This function says hello\"\"\"\n",
    "    print('Hello there {} {}!'.format(first,last))\n",
    "\n",
    "help(say_hi)"
   ]
  },
  {
   "cell_type": "code",
   "execution_count": 18,
   "metadata": {},
   "outputs": [
    {
     "data": {
      "text/plain": [
       "'Odd'"
      ]
     },
     "execution_count": 18,
     "metadata": {},
     "output_type": "execute_result"
    }
   ],
   "source": [
    "def odd_or_even(number):\n",
    "    \"\"\"Determine whether number is odd or even\"\"\"\n",
    "    if number % 2 ==0:\n",
    "        return 'Even' #return passes through the functions and spits it back to you\n",
    "    else:\n",
    "        return 'Odd'\n",
    "\n",
    "odd_or_even(7)"
   ]
  },
  {
   "cell_type": "code",
   "execution_count": 24,
   "metadata": {},
   "outputs": [
    {
     "name": "stdout",
     "output_type": "stream",
     "text": [
      "What is your name? Shawty\n",
      "Your name is Shawty!\n"
     ]
    }
   ],
   "source": [
    "#functions that call other functions\n",
    "\n",
    "def get_name():\n",
    "    \"\"\"Get & Return A Name\"\"\"\n",
    "    name = input('What is your name? ')\n",
    "    return name\n",
    "\n",
    "def say_name(name):\n",
    "    \"\"\"Say The Name\"\"\"\n",
    "    print('Your name is {}!'.format(name))\n",
    "    \n",
    "def get_and_say_name():\n",
    "    \"\"\"Get and Say Name\"\"\"\n",
    "    name = get_name()\n",
    "    say_name(name)\n",
    "\n",
    "get_and_say_name()\n",
    "\n"
   ]
  },
  {
   "cell_type": "code",
   "execution_count": 20,
   "metadata": {},
   "outputs": [
    {
     "name": "stdout",
     "output_type": "stream",
     "text": [
      "Enter a word that is a noun:Python\n",
      "Enter a word that is a verb:code\n",
      "Enter a word that is an adjective:exciting\n",
      "\n",
      "Here is the story you created. Enjoy :)\n",
      "\n",
      "You probably think you need to learn to code, but it's so easy that even a Python can do it. Trust me, it will be very exciting!\n"
     ]
    }
   ],
   "source": [
    "#Fill in the Blank Word Game\n",
    "\n",
    "def get_word(word_type):\n",
    "    \"\"\"Get a word from a user and return that word\"\"\"\n",
    "    if word_type.lower() =='adjective':\n",
    "        a_or_an ='an'\n",
    "    else:\n",
    "        a_or_an = 'a'\n",
    "    return input('Enter a word that is {0} {1}:'.format(a_or_an, word_type))\n",
    "\n",
    "def fill_in_blanks(noun,verb,adjective):\n",
    "    \"\"\"Fills in blanks and returns a complete story\"\"\"\n",
    "    story = \"You probably think you need to learn to {1}, but it's so easy that even a {0} can do it. Trust me, it will be very {2}!\".format(noun,verb,adjective)\n",
    "    return story\n",
    "\n",
    "def display_story(story):\n",
    "    \"\"\"Displays story\"\"\"\n",
    "    print()\n",
    "    print(\"Here is the story you created. Enjoy :)\")\n",
    "    print()\n",
    "    print(story)\n",
    "\n",
    "def create_story():\n",
    "    \"\"\"Creates story by capturing input and displaying the finished product\"\"\"\n",
    "    noun = get_word('noun')\n",
    "    verb = get_word('verb')\n",
    "    adjective = get_word('adjective')\n",
    "    \n",
    "    the_story = fill_in_blanks(noun,verb,adjective)\n",
    "    display_story(the_story)\n",
    "\n",
    "create_story()\n",
    "    \n",
    "\n",
    "        "
   ]
  },
  {
   "cell_type": "code",
   "execution_count": null,
   "metadata": {},
   "outputs": [],
   "source": []
  }
 ],
 "metadata": {
  "kernelspec": {
   "display_name": "Python 3",
   "language": "python",
   "name": "python3"
  },
  "language_info": {
   "codemirror_mode": {
    "name": "ipython",
    "version": 3
   },
   "file_extension": ".py",
   "mimetype": "text/x-python",
   "name": "python",
   "nbconvert_exporter": "python",
   "pygments_lexer": "ipython3",
   "version": "3.7.1"
  }
 },
 "nbformat": 4,
 "nbformat_minor": 2
}
