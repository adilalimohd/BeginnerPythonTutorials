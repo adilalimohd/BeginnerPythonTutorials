{
 "cells": [
  {
   "cell_type": "code",
   "execution_count": 1,
   "metadata": {},
   "outputs": [],
   "source": [
    "#Tuples are immutable lists --> meaning once defined, it cannot be changed\n",
    "#Tuple format: tuple_name = (item_1,item_2,item_N). If only single item, comma must still be included E.I (item_1,)"
   ]
  },
  {
   "cell_type": "code",
   "execution_count": 3,
   "metadata": {},
   "outputs": [
    {
     "name": "stdout",
     "output_type": "stream",
     "text": [
      "days_of_the_week_tuple     is        <class 'list'>\n",
      "days_of_the_week_list     is        <class 'list'>\n",
      "animals_list        is         <class 'list'>\n",
      "animals_tuple       is         <class 'tuple'>\n"
     ]
    }
   ],
   "source": [
    "#Switching between tuples and lists\n",
    "#tuple sytnax is parentheses\n",
    "days_of_the_week_tuple = ('Monday', 'Tuesday', 'Wednesday', 'Thursday', 'Friday', 'Saturday', 'Sunday') \n",
    "days_of_the_week_list = list(days_of_the_week_tuple)\n",
    "print('days_of_the_week_tuple     is        {}'.format(type(days_of_the_week_tuple)))  #Type() brings back object type\n",
    "print('days_of_the_week_list     is        {}'.format(type(days_of_the_week_list)))\n",
    "\n",
    "animals_list = ['man','bear','pig']\n",
    "animals_tuple = tuple(animals_list)\n",
    "\n",
    "print('animals_list        is         {}'.format(type(animals_list)))\n",
    "print('animals_tuple       is         {}'.format(type(animals_tuple)))"
   ]
  },
  {
   "cell_type": "code",
   "execution_count": 4,
   "metadata": {},
   "outputs": [
    {
     "name": "stdout",
     "output_type": "stream",
     "text": [
      "Monday\n",
      "Tuesday\n",
      "Wednesday\n",
      "Thursday\n",
      "Friday\n",
      "Saturday\n",
      "Sunday\n"
     ]
    }
   ],
   "source": [
    "#Looping through tuples\n",
    "\n",
    "days_of_the_week = ('Monday', 'Tuesday', 'Wednesday', 'Thursday', 'Friday', 'Saturday', 'Sunday') \n",
    "for day in days_of_the_week:\n",
    "    print(day)"
   ]
  },
  {
   "cell_type": "code",
   "execution_count": 5,
   "metadata": {},
   "outputs": [
    {
     "name": "stdout",
     "output_type": "stream",
     "text": [
      "Monday\n",
      "Friday\n"
     ]
    }
   ],
   "source": [
    "#Assigning variables to tuples. You may do so with the entire tuple, if need be\n",
    "\n",
    "days_of_the_week = ('Monday', 'Tuesday', 'Wednesday', 'Thursday', 'Friday', 'Saturday', 'Sunday')\n",
    "(mon,tue,wed,thu,fri,sat,sun) = days_of_the_week\n",
    "\n",
    "print(mon)\n",
    "\n",
    "print(fri)"
   ]
  },
  {
   "cell_type": "code",
   "execution_count": 6,
   "metadata": {},
   "outputs": [
    {
     "name": "stdout",
     "output_type": "stream",
     "text": [
      "The highest number is 42\n",
      "The lowest number is 4\n"
     ]
    }
   ],
   "source": [
    "#Tuple assignment can also be used for lists in a similar way as above ^\n",
    "\n",
    "#Tuple assignment for functions\n",
    "\n",
    "def high_and_low(numbers):\n",
    "    \"\"\"Determine highest and lowest number\"\"\"\n",
    "    highest = max(numbers)\n",
    "    lowest = min(numbers)\n",
    "    return (highest, lowest)\n",
    "\n",
    "lottery_numbers = [16,4,42,15,23,8]\n",
    "(highest, lowest) = high_and_low(lottery_numbers)\n",
    "\n",
    "print('The highest number is {}'.format(highest))\n",
    "print('The lowest number is {}'.format(lowest))\n"
   ]
  },
  {
   "cell_type": "code",
   "execution_count": 13,
   "metadata": {},
   "outputs": [
    {
     "name": "stdout",
     "output_type": "stream",
     "text": [
      "The code for Los Angeles is LAX\n",
      "The code for Chicago O'Hare is ORD\n",
      "The code for Dallas Fort Worth is DFW\n"
     ]
    }
   ],
   "source": [
    "#Excercise: Airport codes\n",
    "\n",
    "airports = [\n",
    "('Los Angeles','LAX'),\n",
    "(\"Chicago O'Hare\", 'ORD'),\n",
    "('Dallas Fort Worth','DFW')\n",
    "]\n",
    "\n",
    "\n",
    "for airport, code in airports:\n",
    "    print('The code for {0} is {1}'.format(airport,code))"
   ]
  },
  {
   "cell_type": "code",
   "execution_count": null,
   "metadata": {},
   "outputs": [],
   "source": []
  }
 ],
 "metadata": {
  "kernelspec": {
   "display_name": "Python 3",
   "language": "python",
   "name": "python3"
  },
  "language_info": {
   "codemirror_mode": {
    "name": "ipython",
    "version": 3
   },
   "file_extension": ".py",
   "mimetype": "text/x-python",
   "name": "python",
   "nbconvert_exporter": "python",
   "pygments_lexer": "ipython3",
   "version": "3.7.1"
  }
 },
 "nbformat": 4,
 "nbformat_minor": 2
}
