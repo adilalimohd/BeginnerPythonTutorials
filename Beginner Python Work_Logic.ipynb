{
 "cells": [
  {
   "cell_type": "code",
   "execution_count": 7,
   "metadata": {},
   "outputs": [
    {
     "name": "stdout",
     "output_type": "stream",
     "text": [
      "How far would you like to travel? 200\n",
      "I suggest driving to your destination.\n"
     ]
    }
   ],
   "source": [
    "#Prompt to user\n",
    "\n",
    "user_input = input('How far would you like to travel? ')\n",
    "\n",
    "#Change user_input format to integer\n",
    "user_input = int(user_input)\n",
    "\n",
    "#Set logic \n",
    "if user_input <= 3:\n",
    "    print('I suggest walking to your destination.')\n",
    "elif user_input < 300:\n",
    "    print('I suggest driving to your destination.')\n",
    "elif user_input >= 300:\n",
    "    print('I suggest flying to your destination.')\n",
    "    \n",
    "\n",
    "\n",
    "\n"
   ]
  }
 ],
 "metadata": {
  "kernelspec": {
   "display_name": "Python 3",
   "language": "python",
   "name": "python3"
  },
  "language_info": {
   "codemirror_mode": {
    "name": "ipython",
    "version": 3
   },
   "file_extension": ".py",
   "mimetype": "text/x-python",
   "name": "python",
   "nbconvert_exporter": "python",
   "pygments_lexer": "ipython3",
   "version": "3.7.1"
  }
 },
 "nbformat": 4,
 "nbformat_minor": 2
}
